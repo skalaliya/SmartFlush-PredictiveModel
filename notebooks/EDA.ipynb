{
 "cells": [
  {
   "cell_type": "markdown",
   "metadata": {},
   "source": [
    "# SmartFlush Exploratory Data Analysis (EDA)\n",
    "\n",
    "This notebook performs comprehensive exploratory data analysis on the SmartFlush dataset.\n",
    "\n",
    "## Contents\n",
    "1. Data Loading\n",
    "2. Initial Exploration\n",
    "3. Statistical Analysis\n",
    "4. Correlation Analysis\n",
    "5. Feature Distributions\n",
    "6. Chi-Squared Tests\n",
    "7. Visualizations"
   ]
  },
  {
   "cell_type": "code",
   "execution_count": null,
   "metadata": {},
   "outputs": [],
   "source": [
    "# Import required libraries\n",
    "import sys\n",
    "import os\n",
    "sys.path.append('..')\n",
    "\n",
    "import pandas as pd\n",
    "import numpy as np\n",
    "import matplotlib.pyplot as plt\n",
    "import seaborn as sns\n",
    "from pathlib import Path\n",
    "\n",
    "# Import custom modules\n",
    "from src.data_loading import load_and_combine_data, handle_missing_values\n",
    "from src.eda import (\n",
    "    perform_eda,\n",
    "    calculate_pearson_correlation,\n",
    "    plot_correlation_heatmap,\n",
    "    plot_pairplot,\n",
    "    plot_boxplots,\n",
    "    plot_target_distribution,\n",
    "    generate_summary_statistics,\n",
    "    set_plot_style\n",
    ")\n",
    "from src.utils import calculate_vif, chi_squared_test\n",
    "\n",
    "# Configure plotting\n",
    "set_plot_style()\n",
    "%matplotlib inline\n",
    "plt.rcParams['figure.figsize'] = (12, 8)"
   ]
  },
  {
   "cell_type": "markdown",
   "metadata": {},
   "source": [
    "## 1. Data Loading"
   ]
  },
  {
   "cell_type": "code",
   "execution_count": null,
   "metadata": {},
   "outputs": [],
   "source": [
    "# Load data files\n",
    "data_files = [\n",
    "    '../data/Combined_Data.xlsx',\n",
    "    '../data/mon_fichier.xlsx'\n",
    "]\n",
    "\n",
    "# Check which files exist\n",
    "existing_files = [f for f in data_files if Path(f).exists()]\n",
    "\n",
    "if existing_files:\n",
    "    df = load_and_combine_data(existing_files, how='concat')\n",
    "else:\n",
    "    print(\"No data files found. Creating synthetic data for demonstration.\")\n",
    "    np.random.seed(42)\n",
    "    n_samples = 1000\n",
    "    df = pd.DataFrame({\n",
    "        'photodiode_1': np.random.randn(n_samples),\n",
    "        'photodiode_2': np.random.randn(n_samples),\n",
    "        'waste_level': np.random.randint(1, 6, n_samples),\n",
    "        'sensor_1': np.random.randn(n_samples),\n",
    "        'sensor_2': np.random.randn(n_samples),\n",
    "        'flush_level': np.random.randint(1, 12, n_samples)\n",
    "    })\n",
    "\n",
    "print(f\"Data shape: {df.shape}\")\n",
    "df.head()"
   ]
  },
  {
   "cell_type": "markdown",
   "metadata": {},
   "source": [
    "## 2. Initial Exploration"
   ]
  },
  {
   "cell_type": "code",
   "execution_count": null,
   "metadata": {},
   "outputs": [],
   "source": [
    "# Display basic information\n",
    "print(\"Dataset Info:\")\n",
    "df.info()\n",
    "\n",
    "print(\"\\nMissing Values:\")\n",
    "print(df.isnull().sum())\n",
    "\n",
    "print(\"\\nBasic Statistics:\")\n",
    "df.describe()"
   ]
  },
  {
   "cell_type": "markdown",
   "metadata": {},
   "source": [
    "## 3. Target Variable Analysis"
   ]
  },
  {
   "cell_type": "code",
   "execution_count": null,
   "metadata": {},
   "outputs": [],
   "source": [
    "# Determine target column\n",
    "target_col = 'flush_level' if 'flush_level' in df.columns else df.columns[-1]\n",
    "print(f\"Target column: {target_col}\")\n",
    "\n",
    "# Target distribution\n",
    "plot_target_distribution(df, target_col)"
   ]
  },
  {
   "cell_type": "markdown",
   "metadata": {},
   "source": [
    "## 4. Correlation Analysis"
   ]
  },
  {
   "cell_type": "code",
   "execution_count": null,
   "metadata": {},
   "outputs": [],
   "source": [
    "# Calculate correlations\n",
    "feature_cols = df.select_dtypes(include=[np.number]).columns.tolist()\n",
    "if target_col in feature_cols:\n",
    "    feature_cols.remove(target_col)\n",
    "\n",
    "corr_matrix = calculate_pearson_correlation(df, feature_cols)\n",
    "\n",
    "# Plot heatmap\n",
    "plot_correlation_heatmap(corr_matrix, title='Feature Correlation Matrix')"
   ]
  },
  {
   "cell_type": "markdown",
   "metadata": {},
   "source": [
    "## 5. Multicollinearity Check (VIF)"
   ]
  },
  {
   "cell_type": "code",
   "execution_count": null,
   "metadata": {},
   "outputs": [],
   "source": [
    "# Calculate VIF\n",
    "vif_df = calculate_vif(df, feature_cols)\n",
    "print(\"Variance Inflation Factors:\")\n",
    "print(vif_df)\n",
    "\n",
    "# Highlight high VIF features\n",
    "high_vif = vif_df[vif_df['VIF'] > 10]\n",
    "if not high_vif.empty:\n",
    "    print(f\"\\nFeatures with VIF > 10 (multicollinearity):\")\n",
    "    print(high_vif)"
   ]
  },
  {
   "cell_type": "markdown",
   "metadata": {},
   "source": [
    "## 6. Feature Distributions (Boxplots)"
   ]
  },
  {
   "cell_type": "code",
   "execution_count": null,
   "metadata": {},
   "outputs": [],
   "source": [
    "# Boxplots for features vs target\n",
    "boxplot_features = feature_cols[:6] if len(feature_cols) >= 6 else feature_cols\n",
    "plot_boxplots(df, boxplot_features, target_col)"
   ]
  },
  {
   "cell_type": "markdown",
   "metadata": {},
   "source": [
    "## 7. Pairplot Visualization"
   ]
  },
  {
   "cell_type": "code",
   "execution_count": null,
   "metadata": {},
   "outputs": [],
   "source": [
    "# Pairplot for selected features\n",
    "pairplot_features = feature_cols[:4] if len(feature_cols) >= 4 else feature_cols\n",
    "plot_pairplot(df, pairplot_features, target_col, sample_size=500)"
   ]
  },
  {
   "cell_type": "markdown",
   "metadata": {},
   "source": [
    "## 8. Summary Statistics"
   ]
  },
  {
   "cell_type": "code",
   "execution_count": null,
   "metadata": {},
   "outputs": [],
   "source": [
    "# Generate comprehensive summary\n",
    "summary_stats = generate_summary_statistics(df)\n",
    "print(\"Summary Statistics:\")\n",
    "summary_stats"
   ]
  },
  {
   "cell_type": "markdown",
   "metadata": {},
   "source": [
    "## Conclusions\n",
    "\n",
    "Based on the exploratory data analysis:\n",
    "\n",
    "1. **Data Quality**: [Add observations about missing values, outliers]\n",
    "2. **Feature Relationships**: [Add observations about correlations]\n",
    "3. **Multicollinearity**: [Add observations about VIF results]\n",
    "4. **Target Distribution**: [Add observations about class balance]\n",
    "5. **Next Steps**: [Add recommendations for modeling]"
   ]
  }
 ],
 "metadata": {
  "kernelspec": {
   "display_name": "Python 3",
   "language": "python",
   "name": "python3"
  },
  "language_info": {
   "codemirror_mode": {
    "name": "ipython",
    "version": 3
   },
   "file_extension": ".py",
   "mimetype": "text/x-python",
   "name": "python",
   "nbconvert_exporter": "python",
   "pygments_lexer": "ipython3",
   "version": "3.8.0"
  }
 },
 "nbformat": 4,
 "nbformat_minor": 4
}
